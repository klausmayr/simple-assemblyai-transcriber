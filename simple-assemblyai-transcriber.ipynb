{
 "cells": [
  {
   "cell_type": "code",
   "execution_count": null,
   "metadata": {},
   "outputs": [],
   "source": [
    "import requests\n",
    "import json\n",
    "from time import sleep\n",
    "\n",
    "url = input(\"Enter your url: \")\n",
    "auth = input(\"Enter your auth: \")\n",
    "\n",
    "endpoint = \"https://api.assemblyai.com/v2/transcript\"\n",
    "json = {\n",
    "    \"audio_url\": url\n",
    "}\n",
    "\n",
    "headers = {\n",
    "    \"authorization\": auth,\n",
    "    \"content-type\": \"application/json\"\n",
    "}\n",
    "\n",
    "audioResponse = requests.post(endpoint, json=json, headers=headers)\n",
    "\n",
    "audio = audioResponse.json()\n",
    "\n",
    "id = audio['id']\n",
    "\n",
    "print(\"Your transcript ID is: \" + id)\n",
    "\n",
    "endpoint = \"https://api.assemblyai.com/v2/transcript/\" + id\n",
    "\n",
    "while True:\n",
    "    sleep(20)\n",
    "    transcriptResponse = requests.get(endpoint, headers=headers)\n",
    "    transcript = transcriptResponse.json()\n",
    "\n",
    "    status = transcript['status']\n",
    "    if status != 'completed':\n",
    "        print('Still ' + status)\n",
    "        continue\n",
    "    else:\n",
    "        print(transcript['text'])\n",
    "        break"
   ]
  }
 ],
 "metadata": {
  "language_info": {
   "name": "python"
  },
  "orig_nbformat": 4
 },
 "nbformat": 4,
 "nbformat_minor": 2
}
